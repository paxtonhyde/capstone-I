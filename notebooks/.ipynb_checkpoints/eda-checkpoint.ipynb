{
 "cells": [
  {
   "cell_type": "code",
   "execution_count": 2,
   "metadata": {},
   "outputs": [],
   "source": [
    "import pyspark as ps\n",
    "import pyspark.sql.functions as f"
   ]
  },
  {
   "cell_type": "code",
   "execution_count": 3,
   "metadata": {},
   "outputs": [],
   "source": [
    "spark = (ps.sql.SparkSession.builder \n",
    "    .master(\"local\") \n",
    "    .appName(\"pipeline\")\n",
    "    .getOrCreate()\n",
    "    )\n",
    "sc = spark.sparkContext\n",
    "sc.setLogLevel(\"WARN\")"
   ]
  },
  {
   "cell_type": "code",
   "execution_count": 4,
   "metadata": {},
   "outputs": [],
   "source": [
    "## loading responses with survey data into a spark dataframe\n",
    "path = \"../data/SharedResponsesSurvey_10000.csv\"\n",
    "responses = spark.read.csv(path, header=True)\n",
    "\n",
    "## pullin out all the countries (n < 100)\n",
    "path = \"../data/country_cluster_map.csv\"\n",
    "countries = spark.read.csv(path, header=True).select(\"ISO3\")"
   ]
  },
  {
   "cell_type": "code",
   "execution_count": 5,
   "metadata": {},
   "outputs": [
    {
     "data": {
      "text/plain": [
       "['ResponseID',\n",
       " 'ExtendedSessionID',\n",
       " 'UserID',\n",
       " 'ScenarioOrder',\n",
       " 'Intervention',\n",
       " 'PedPed',\n",
       " 'Barrier',\n",
       " 'CrossingSignal',\n",
       " 'AttributeLevel',\n",
       " 'ScenarioTypeStrict',\n",
       " 'ScenarioType',\n",
       " 'DefaultChoice',\n",
       " 'NonDefaultChoice',\n",
       " 'DefaultChoiceIsOmission',\n",
       " 'NumberOfCharacters',\n",
       " 'DiffNumberOFCharacters',\n",
       " 'Saved',\n",
       " 'Template',\n",
       " 'DescriptionShown',\n",
       " 'LeftHand',\n",
       " 'UserCountry3',\n",
       " 'Review_age',\n",
       " 'Review_education',\n",
       " 'Review_gender',\n",
       " 'Review_income',\n",
       " 'Review_political',\n",
       " 'Review_religious']"
      ]
     },
     "execution_count": 5,
     "metadata": {},
     "output_type": "execute_result"
    }
   ],
   "source": [
    "responses.columns"
   ]
  },
  {
   "cell_type": "code",
   "execution_count": 8,
   "metadata": {},
   "outputs": [
    {
     "name": "stdout",
     "output_type": "stream",
     "text": [
      "+----------------+------------+----------+----------------+-------------+-------------+----------------+----------------+-------------+\n",
      "|          UserID|UserCountry3|Review_age|Review_education|Review_gender|Review_income|Review_political|Review_religious|count(UserID)|\n",
      "+----------------+------------+----------+----------------+-------------+-------------+----------------+----------------+-------------+\n",
      "| 809483690453245|         USA|        16|       underHigh|       female|      default|             0.5|             0.5|           12|\n",
      "|7134809177082630|         FRA|        37|         college|         male|        35000|            0.22|            0.52|           12|\n",
      "|8751981610944470|         KOR|        27|        bachelor|         male|        25000|            0.33|             0.9|           11|\n",
      "|6057689097792270|         TWN|        16|            high|       female|    under5000|            0.39|            0.84|           12|\n",
      "|7689448073852970|         VEN|        13|            high|         male|    under5000|             0.5|               0|           12|\n",
      "|9844649455077370|         USA|        15|          others|         male|      default|             0.5|            0.71|           11|\n",
      "|2146481541931130|         USA|        35|        graduate|         male|  above100000|             0.5|            0.68|           12|\n",
      "|7971435732944080|         IRL|        12|       underHigh|         male|    under5000|               1|               0|           13|\n",
      "|4273662827569900|         FRA|        21|      vocational|       female|         5000|               1|               0|           11|\n",
      "|8395765879147800|         JPN|        20|            high|         male|    under5000|            0.16|               0|           12|\n",
      "|7805569266358220|         FRA|        30|        graduate|         male|        50000|               1|               0|           11|\n",
      "|3042112085005470|         DNK|        26|         college|         male|         5000|            0.62|               0|           13|\n",
      "|1422129940692020|         USA|        13|       underHigh|       female|      default|             0.5|             0.1|           12|\n",
      "| 172458103030324|         USA|        16|       underHigh|         male|    under5000|             0.1|            0.76|           12|\n",
      "|2311888445797940|         FRA|        25|        bachelor|         male|    under5000|               1|               0|           11|\n",
      "|5109969111645770|         DEU|        20|      vocational|         male|    under5000|             0.8|               0|           11|\n",
      "|9713239052795650|         LTU|        18|            high|         male|        10000|            0.35|            0.13|           11|\n",
      "|9888918505187100|         CZE|        26|        bachelor|         male|    under5000|            0.82|            0.62|           11|\n",
      "|2123151135400150|         PHL|        19|            high|         male|        80000|            0.35|            0.53|           12|\n",
      "|7992138068537210|         SLV|       111|       underHigh|       others|  above100000|               0|               1|           12|\n",
      "+----------------+------------+----------+----------------+-------------+-------------+----------------+----------------+-------------+\n",
      "only showing top 20 rows\n",
      "\n"
     ]
    }
   ],
   "source": [
    "## some EDA stuff\n",
    "## getting responses by country\n",
    "users = responses.select([\"UserID\", \"UserCountry3\", \\\n",
    "                  \"Review_age\",\"Review_education\", \\\n",
    "                  \"Review_gender\", \"Review_income\", \\\n",
    "                  \"Review_political\" ,\"Review_religious\"]).groupby([\"UserID\", \"UserCountry3\", \\\n",
    "                  \"Review_age\",\"Review_education\", \\\n",
    "                  \"Review_gender\", \"Review_income\", \\\n",
    "                  \"Review_political\" ,\"Review_religious\"]).agg({\"UserID\":\"count\"})\n",
    "\n",
    "users_by_country = users.select([\"UserCountry3\",\"UserID\"]).groupby(\"UserCountry3\").agg({\"UserID\": \"count\"})\n",
    "top_countries = users_by_country.select('*')\\\n",
    "                                .orderBy(\"count(userID)\", ascending=False)\\\n",
    "                                .filter(users_by_country['count(UserID)'] > 20)\\\n",
    "                                .limit(50)\n",
    "top_countries.write.format('csv').save(\"../data/users_by_country_50.csv\")\n",
    "\n",
    "## data for United States users\n",
    "# us_users = users.select(\"*\").filter(\"UserCountry3 = 'USA' \")\n",
    "# us_users.write.csv(\"../data/us_users.csv\", mode=\"overwrite\")\n",
    "\n",
    "users.show(20)"
   ]
  },
  {
   "cell_type": "code",
   "execution_count": 82,
   "metadata": {},
   "outputs": [
    {
     "name": "stdout",
     "output_type": "stream",
     "text": [
      "204\n",
      "+-------------+--------------------+\n",
      "|Review_gender|count(Review_gender)|\n",
      "+-------------+--------------------+\n",
      "|       female|                  66|\n",
      "|       others|                  12|\n",
      "|         male|                 105|\n",
      "|      default|                  21|\n",
      "+-------------+--------------------+\n",
      "\n"
     ]
    }
   ],
   "source": [
    "## user demographics\n",
    "us_users = users.select('*').filter(\"UserCountry3 = 'USA' \")\n",
    "n = us_users.count()\n",
    "print(n)\n",
    "genders = us_users.select(\"Review_gender\").groupby(\"Review_gender\").agg({\"Review_gender\": \"count\"})\n",
    "\n",
    "ages = us_users.select(\"Review_age\").groupby(\"Review_age\").agg({\"Review_age\": \"count\"})\n",
    "political = us_users.select(\"Review_political\")\n"
   ]
  }
 ],
 "metadata": {
  "kernelspec": {
   "display_name": "Python 3",
   "language": "python",
   "name": "python3"
  },
  "language_info": {
   "codemirror_mode": {
    "name": "ipython",
    "version": 3
   },
   "file_extension": ".py",
   "mimetype": "text/x-python",
   "name": "python",
   "nbconvert_exporter": "python",
   "pygments_lexer": "ipython3",
   "version": "3.7.3"
  }
 },
 "nbformat": 4,
 "nbformat_minor": 4
}
