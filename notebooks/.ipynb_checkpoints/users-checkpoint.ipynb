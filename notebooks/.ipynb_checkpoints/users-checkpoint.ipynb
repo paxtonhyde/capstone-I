{
 "cells": [
  {
   "cell_type": "code",
   "execution_count": 22,
   "metadata": {},
   "outputs": [],
   "source": [
    "import pandas as pd\n",
    "import numpy as np\n",
    "import pyspark as ps\n",
    "import pyspark.sql.functions as f"
   ]
  },
  {
   "cell_type": "code",
   "execution_count": 10,
   "metadata": {},
   "outputs": [],
   "source": [
    "spark = (ps.sql.SparkSession.builder \n",
    "    .master(\"local\") \n",
    "    .appName(\"user-pipeline\")\n",
    "    .ui.port(\"4047\")\n",
    "    .getOrCreate()\n",
    "    )\n",
    "sc = spark.sparkContext\n",
    "sc.setLogLevel(\"WARN\")"
   ]
  },
  {
   "cell_type": "code",
   "execution_count": 54,
   "metadata": {},
   "outputs": [],
   "source": [
    "## loading responses with survey data into a spark dataframe\n",
    "path = \"../data/SharedResponsesSurvey_10000.csv\"\n",
    "responses = spark.read.csv(path, header=True).sample(False, 0.1, np.random.randint(100))"
   ]
  },
  {
   "cell_type": "code",
   "execution_count": 13,
   "metadata": {},
   "outputs": [
    {
     "data": {
      "text/plain": [
       "['ResponseID',\n",
       " 'ExtendedSessionID',\n",
       " 'UserID',\n",
       " 'ScenarioOrder',\n",
       " 'Intervention',\n",
       " 'PedPed',\n",
       " 'Barrier',\n",
       " 'CrossingSignal',\n",
       " 'AttributeLevel',\n",
       " 'ScenarioTypeStrict',\n",
       " 'ScenarioType',\n",
       " 'DefaultChoice',\n",
       " 'NonDefaultChoice',\n",
       " 'DefaultChoiceIsOmission',\n",
       " 'NumberOfCharacters',\n",
       " 'DiffNumberOFCharacters',\n",
       " 'Saved',\n",
       " 'Template',\n",
       " 'DescriptionShown',\n",
       " 'LeftHand',\n",
       " 'UserCountry3',\n",
       " 'Review_age',\n",
       " 'Review_education',\n",
       " 'Review_gender',\n",
       " 'Review_income',\n",
       " 'Review_political',\n",
       " 'Review_religious']"
      ]
     },
     "execution_count": 13,
     "metadata": {},
     "output_type": "execute_result"
    }
   ],
   "source": [
    "responses.columns"
   ]
  },
  {
   "cell_type": "code",
   "execution_count": 14,
   "metadata": {},
   "outputs": [
    {
     "name": "stdout",
     "output_type": "stream",
     "text": [
      "+----------------+------------+----------+----------------+-------------+-------------+----------------+----------------+-------------+\n",
      "|          UserID|UserCountry3|Review_age|Review_education|Review_gender|Review_income|Review_political|Review_religious|count(UserID)|\n",
      "+----------------+------------+----------+----------------+-------------+-------------+----------------+----------------+-------------+\n",
      "| 809483690453245|         USA|        16|       underHigh|       female|      default|             0.5|             0.5|           12|\n",
      "|9844649455077370|         USA|        15|          others|         male|      default|             0.5|            0.71|           11|\n",
      "|2146481541931130|         USA|        35|        graduate|         male|  above100000|             0.5|            0.68|           12|\n",
      "|1422129940692020|         USA|        13|       underHigh|       female|      default|             0.5|             0.1|           12|\n",
      "| 172458103030324|         USA|        16|       underHigh|         male|    under5000|             0.1|            0.76|           12|\n",
      "|5507122359435470|         USA|        36|        bachelor|       female|  above100000|            0.83|             0.1|           11|\n",
      "| 305832603477678|         USA|      null|         default|      default|      default|             0.5|            0.53|           13|\n",
      "|6786547811105100|         USA|        31|        bachelor|         male|        80000|            0.76|            0.25|           12|\n",
      "|9321170824048890|         USA|        13|       underHigh|       female|    under5000|             0.5|            0.26|           12|\n",
      "|2065759412114620|         USA|        41|        graduate|         male|  above100000|            0.59|            0.23|           13|\n",
      "|8476449157332800|         USA|      null|         default|      default|      default|               1|               0|           12|\n",
      "|7463282591896660|         USA|        13|          others|       female|      default|               0|            0.25|           11|\n",
      "|2566625561218890|         USA|        14|       underHigh|       others|        25000|            0.88|            0.62|            8|\n",
      "|5371561028316530|         USA|        56|            high|         male|        35000|             0.5|               0|           13|\n",
      "|6980792233896150|         USA|        30|        bachelor|       female|        35000|            0.99|            0.02|           12|\n",
      "|3587993587290280|         USA|        16|       underHigh|       female|      default|            0.68|            0.21|           12|\n",
      "|9942206059009100|         USA|        13|       underHigh|       female|    under5000|             0.5|               1|            9|\n",
      "|3726656966540190|         USA|        22|        bachelor|       female|        50000|            0.79|            0.95|           12|\n",
      "| 702959908159299|         USA|        21|         college|         male|    under5000|            0.56|               0|           10|\n",
      "|1055863651584600|         USA|        46|        bachelor|         male|  above100000|             0.5|            0.18|           11|\n",
      "+----------------+------------+----------+----------------+-------------+-------------+----------------+----------------+-------------+\n",
      "only showing top 20 rows\n",
      "\n"
     ]
    }
   ],
   "source": [
    "## some EDA stuff\n",
    "## getting responses by country\n",
    "us_users = responses.select([\"UserID\", \"UserCountry3\", \\\n",
    "                  \"Review_age\",\"Review_education\", \\\n",
    "                  \"Review_gender\", \"Review_income\", \\\n",
    "                  \"Review_political\" ,\"Review_religious\"])\\\n",
    "                .filter(\"UserCountry3 = 'USA' \")\\\n",
    "                .groupby([\"UserID\", \"UserCountry3\", \\\n",
    "                  \"Review_age\",\"Review_education\", \\\n",
    "                  \"Review_gender\", \"Review_income\", \\\n",
    "                  \"Review_political\" ,\"Review_religious\"]).agg({\"UserID\":\"count\"})\n",
    "\n",
    "us_users.show(20)"
   ]
  },
  {
   "cell_type": "code",
   "execution_count": 33,
   "metadata": {},
   "outputs": [],
   "source": [
    "ages = us_users.select(\"Review_age\").filter(us_users[\"Review_age\"] != 'null').collect()\n",
    "ages = np.array(ages, dtype=int)"
   ]
  },
  {
   "cell_type": "code",
   "execution_count": null,
   "metadata": {},
   "outputs": [],
   "source": [
    "genders = us_users.select(\"Review_gender\").filter(us_users[\"Review_age\"] != 'null').collect()"
   ]
  },
  {
   "cell_type": "code",
   "execution_count": null,
   "metadata": {},
   "outputs": [],
   "source": [
    "## user demographics\n",
    "us_users = users.select('*').filter(\"UserCountry3 = 'USA' \")\n",
    "n = us_users.count()\n",
    "print(n)\n",
    "genders = us_users.select(\"Review_gender\").groupby(\"Review_gender\").agg({\"Review_gender\": \"count\"})\n",
    "\n",
    "ages = us_users.select(\"Review_age\").groupby(\"Review_age\").agg({\"Review_age\": \"count\"})\n",
    "political = us_users.select(\"Review_political\")"
   ]
  },
  {
   "cell_type": "code",
   "execution_count": null,
   "metadata": {},
   "outputs": [],
   "source": [
    "users_by_country = users.select([\"UserCountry3\",\"UserID\"]).groupby(\"UserCountry3\").agg({\"UserID\": \"count\"})\n",
    "top_countries = users_by_country.select('*')\\\n",
    "                                .orderBy(\"count(userID)\", ascending=False)\\\n",
    "                                .filter(users_by_country['count(UserID)'] > 20)\\\n",
    "                                .limit(50)"
   ]
  }
 ],
 "metadata": {
  "kernelspec": {
   "display_name": "Python 3",
   "language": "python",
   "name": "python3"
  },
  "language_info": {
   "codemirror_mode": {
    "name": "ipython",
    "version": 3
   },
   "file_extension": ".py",
   "mimetype": "text/x-python",
   "name": "python",
   "nbconvert_exporter": "python",
   "pygments_lexer": "ipython3",
   "version": "3.7.3"
  }
 },
 "nbformat": 4,
 "nbformat_minor": 4
}
