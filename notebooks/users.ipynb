{
 "cells": [
  {
   "cell_type": "code",
   "execution_count": 56,
   "metadata": {},
   "outputs": [],
   "source": [
    "import pandas as pd\n",
    "import numpy as np\n",
    "import pyspark as ps\n",
    "import pyspark.sql.functions as f"
   ]
  },
  {
   "cell_type": "code",
   "execution_count": 57,
   "metadata": {},
   "outputs": [],
   "source": [
    "spark = (ps.sql.SparkSession.builder \n",
    "    .master(\"local\") \n",
    "    .appName(\"user-pipeline\")\n",
    "    .getOrCreate()\n",
    "    )\n",
    "sc = spark.sparkContext\n",
    "sc.setLogLevel(\"WARN\")"
   ]
  },
  {
   "cell_type": "code",
   "execution_count": 58,
   "metadata": {},
   "outputs": [],
   "source": [
    "## loading responses with survey data into a spark dataframe\n",
    "path = \"../data/SharedResponsesSurvey_10000.csv\"\n",
    "responses = spark.read.csv(path, header=True).sample(False, 0.1, np.random.randint(100))"
   ]
  },
  {
   "cell_type": "code",
   "execution_count": 59,
   "metadata": {},
   "outputs": [
    {
     "data": {
      "text/plain": [
       "['ResponseID',\n",
       " 'ExtendedSessionID',\n",
       " 'UserID',\n",
       " 'ScenarioOrder',\n",
       " 'Intervention',\n",
       " 'PedPed',\n",
       " 'Barrier',\n",
       " 'CrossingSignal',\n",
       " 'AttributeLevel',\n",
       " 'ScenarioTypeStrict',\n",
       " 'ScenarioType',\n",
       " 'DefaultChoice',\n",
       " 'NonDefaultChoice',\n",
       " 'DefaultChoiceIsOmission',\n",
       " 'NumberOfCharacters',\n",
       " 'DiffNumberOFCharacters',\n",
       " 'Saved',\n",
       " 'Template',\n",
       " 'DescriptionShown',\n",
       " 'LeftHand',\n",
       " 'UserCountry3',\n",
       " 'Review_age',\n",
       " 'Review_education',\n",
       " 'Review_gender',\n",
       " 'Review_income',\n",
       " 'Review_political',\n",
       " 'Review_religious']"
      ]
     },
     "execution_count": 59,
     "metadata": {},
     "output_type": "execute_result"
    }
   ],
   "source": [
    "responses.columns"
   ]
  },
  {
   "cell_type": "code",
   "execution_count": 60,
   "metadata": {},
   "outputs": [
    {
     "name": "stdout",
     "output_type": "stream",
     "text": [
      "+----------------+------------+----------+----------------+-------------+-------------+----------------+----------------+-------------+\n",
      "|          UserID|UserCountry3|Review_age|Review_education|Review_gender|Review_income|Review_political|Review_religious|count(UserID)|\n",
      "+----------------+------------+----------+----------------+-------------+-------------+----------------+----------------+-------------+\n",
      "| 809483690453245|         USA|        16|       underHigh|       female|      default|             0.5|             0.5|            1|\n",
      "|9844649455077370|         USA|        15|          others|         male|      default|             0.5|            0.71|            1|\n",
      "| 172458103030324|         USA|        16|       underHigh|         male|    under5000|             0.1|            0.76|            2|\n",
      "|5507122359435470|         USA|        36|        bachelor|       female|  above100000|            0.83|             0.1|            1|\n",
      "| 305832603477678|         USA|      null|         default|      default|      default|             0.5|            0.53|            2|\n",
      "|2065759412114620|         USA|        41|        graduate|         male|  above100000|            0.59|            0.23|            1|\n",
      "|8476449157332800|         USA|      null|         default|      default|      default|               1|               0|            1|\n",
      "|7463282591896660|         USA|        13|          others|       female|      default|               0|            0.25|            2|\n",
      "|5371561028316530|         USA|        56|            high|         male|        35000|             0.5|               0|            2|\n",
      "|6980792233896150|         USA|        30|        bachelor|       female|        35000|            0.99|            0.02|            2|\n",
      "|3587993587290280|         USA|        16|       underHigh|       female|      default|            0.68|            0.21|            1|\n",
      "|9942206059009100|         USA|        13|       underHigh|       female|    under5000|             0.5|               1|            2|\n",
      "|1055863651584600|         USA|        46|        bachelor|         male|  above100000|             0.5|            0.18|            1|\n",
      "|7078815017463340|         USA|        26|      vocational|         male|    under5000|             0.5|             0.5|            1|\n",
      "|6996480975900060|         USA|        16|            high|         male|        10000|               1|               0|            2|\n",
      "|1211035747220240|         USA|        69|        graduate|         male|  above100000|            0.86|               0|            1|\n",
      "|8532193761420470|         USA|        36|        graduate|       others|        80000|             0.5|               0|            1|\n",
      "|7460305234417320|         USA|        18|        bachelor|         male|         5000|             0.5|             0.5|            3|\n",
      "|7281226073520050|         USA|        24|         college|         male|        25000|             0.5|               1|            1|\n",
      "|2879990602964230|         USA|        16|       underHigh|         male|    under5000|            0.28|               0|            1|\n",
      "+----------------+------------+----------+----------------+-------------+-------------+----------------+----------------+-------------+\n",
      "only showing top 20 rows\n",
      "\n"
     ]
    }
   ],
   "source": [
    "## some EDA stuff\n",
    "## getting responses by country\n",
    "us_users = responses.select([\"UserID\", \"UserCountry3\", \\\n",
    "                  \"Review_age\",\"Review_education\", \\\n",
    "                  \"Review_gender\", \"Review_income\", \\\n",
    "                  \"Review_political\" ,\"Review_religious\"])\\\n",
    "                .filter(\"UserCountry3 = 'USA' \")\\\n",
    "                .groupby([\"UserID\", \"UserCountry3\", \\\n",
    "                  \"Review_age\",\"Review_education\", \\\n",
    "                  \"Review_gender\", \"Review_income\", \\\n",
    "                  \"Review_political\" ,\"Review_religious\"]).agg({\"UserID\":\"count\"})\n",
    "\n",
    "us_users.show(20)"
   ]
  },
  {
   "cell_type": "code",
   "execution_count": 66,
   "metadata": {},
   "outputs": [
    {
     "data": {
      "text/plain": [
       "array([16, 15, 16, 36, 41, 13, 56, 30, 16, 13, 46, 26, 16, 69, 36, 18, 24,\n",
       "       16, 17, 14, 73, 12, 18, 19, 16, 20, 22, 17, 22, 22, 17, 34, 17, 13,\n",
       "       24, 55, 19, 30, 43, 26, 19, 31, 15, 17, 33, 22, 21, 10, 16, 43, 19,\n",
       "       17, 25, 17, 22, 19, 12, 50, 25, 16, 17, 17, 11, 19, 14, 23, 17, 25,\n",
       "       22, 28, 29, 14, 26, 21, 11, 28, 20, 12, 63, 15, 44, 11, 19, 40, 47,\n",
       "       13, 50, 42, 22, 14,  3, 18, 12, 73, 18, 14, 29,  1, 14, 12, 40, 15,\n",
       "       19, 30, 14, 18, 46, 19, 16, 22, 48, 16, 16, 13, 19, 15, 69, 25, 17,\n",
       "       16, 20, 17, 17, 15, 13, 38])"
      ]
     },
     "execution_count": 66,
     "metadata": {},
     "output_type": "execute_result"
    }
   ],
   "source": [
    "ages = us_users.select(\"Review_age\").filter(us_users[\"Review_age\"] != 'null').collect()\n",
    "ages = np.array(ages, dtype=int).reshape(np.shape(ages)[0])\n",
    "ages"
   ]
  },
  {
   "cell_type": "code",
   "execution_count": 67,
   "metadata": {},
   "outputs": [
    {
     "data": {
      "text/plain": [
       "array(['female', 'male', 'male', 'female', 'default', 'male', 'default',\n",
       "       'female', 'male', 'female', 'female', 'female', 'male', 'male',\n",
       "       'male', 'male', 'others', 'male', 'male', 'male', 'female',\n",
       "       'female', 'male', 'default', 'male', 'male', 'female', 'male',\n",
       "       'female', 'others', 'male', 'male', 'male', 'default', 'male',\n",
       "       'female', 'default', 'female', 'female', 'female', 'female',\n",
       "       'male', 'female', 'male', 'female', 'female', 'male', 'male',\n",
       "       'default', 'male', 'male', 'default', 'others', 'male', 'default',\n",
       "       'male', 'male', 'female', 'male', 'female', 'male', 'default',\n",
       "       'male', 'default', 'female', 'female', 'male', 'others', 'male',\n",
       "       'male', 'male', 'female', 'female', 'male', 'female', 'male',\n",
       "       'female', 'male', 'male', 'male', 'male', 'male', 'female', 'male',\n",
       "       'male', 'female', 'male', 'male', 'female', 'male', 'female',\n",
       "       'male', 'male', 'male', 'female', 'male', 'male', 'default',\n",
       "       'male', 'female', 'male', 'female', 'male', 'male', 'others',\n",
       "       'female', 'male', 'male', 'male', 'female', 'male', 'others',\n",
       "       'male', 'male', 'male', 'male', 'male', 'male', 'male', 'male',\n",
       "       'female', 'default', 'female', 'male', 'male', 'female', 'male',\n",
       "       'male', 'default', 'female', 'female', 'default', 'male', 'others',\n",
       "       'male', 'female', 'female', 'male', 'male', 'female', 'male',\n",
       "       'male', 'female', 'female'], dtype='<U7')"
      ]
     },
     "execution_count": 67,
     "metadata": {},
     "output_type": "execute_result"
    }
   ],
   "source": [
    "genders = us_users.select(\"Review_gender\").filter(us_users[\"Review_gender\"] != 'null')..collect()\n",
    "genders = np.array(genders, dtype=str).reshape(np.shape(genders)[0])\n",
    "genders"
   ]
  },
  {
   "cell_type": "code",
   "execution_count": null,
   "metadata": {},
   "outputs": [],
   "source": [
    "## user demographics\n",
    "us_users = users.select('*').filter(\"UserCountry3 = 'USA' \")\n",
    "n = us_users.count()\n",
    "print(n)\n",
    "genders = us_users.select(\"Review_gender\").groupby(\"Review_gender\").agg({\"Review_gender\": \"count\"})\n",
    "\n",
    "ages = us_users.select(\"Review_age\").groupby(\"Review_age\").agg({\"Review_age\": \"count\"})\n",
    "political = us_users.select(\"Review_political\")"
   ]
  },
  {
   "cell_type": "code",
   "execution_count": null,
   "metadata": {},
   "outputs": [],
   "source": [
    "users_by_country = users.select([\"UserCountry3\",\"UserID\"]).groupby(\"UserCountry3\").agg({\"UserID\": \"count\"})\n",
    "top_countries = users_by_country.select('*')\\\n",
    "                                .orderBy(\"count(userID)\", ascending=False)\\\n",
    "                                .filter(users_by_country['count(UserID)'] > 20)\\\n",
    "                                .limit(50)"
   ]
  }
 ],
 "metadata": {
  "kernelspec": {
   "display_name": "Python 3",
   "language": "python",
   "name": "python3"
  },
  "language_info": {
   "codemirror_mode": {
    "name": "ipython",
    "version": 3
   },
   "file_extension": ".py",
   "mimetype": "text/x-python",
   "name": "python",
   "nbconvert_exporter": "python",
   "pygments_lexer": "ipython3",
   "version": "3.7.3"
  }
 },
 "nbformat": 4,
 "nbformat_minor": 4
}
