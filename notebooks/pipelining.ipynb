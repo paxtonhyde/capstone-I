{
 "cells": [
  {
   "cell_type": "code",
   "execution_count": 80,
   "metadata": {},
   "outputs": [],
   "source": [
    "import pandas as pd\n",
    "import timeit\n",
    "import boto3\n",
    "import os\n",
    "import pyspark as ps\n",
    "import pyspark.sql.functions as f\n",
    "import pyspark.sql.types as sparktypes\n",
    "from pyspark.sql.functions import udf, col"
   ]
  },
  {
   "cell_type": "code",
   "execution_count": 45,
   "metadata": {},
   "outputs": [
    {
     "name": "stdout",
     "output_type": "stream",
     "text": [
      "/home/jovyan/work/dsi/capstones/icapstone/notebooks\n"
     ]
    }
   ],
   "source": [
    "SCRIPT_DIRECTORY = os.path.realpath(\"\")\n",
    "HOME_DIR = os.path.split(SCRIPT_DIRECTORY)[0]\n",
    "DATA_DIR = os.path.join(HOME_DIR, \"data\")\n",
    "print(SCRIPT_DIRECTORY)"
   ]
  },
  {
   "cell_type": "code",
   "execution_count": 60,
   "metadata": {},
   "outputs": [],
   "source": [
    "spark = (ps.sql.SparkSession.builder \n",
    "    .master(\"local[*]\") \n",
    "    .appName(\"country-pipeline\")\n",
    "    .getOrCreate()\n",
    "    )\n",
    "sc = spark.sparkContext\n",
    "sc.setLogLevel(\"WARN\")"
   ]
  },
  {
   "cell_type": "code",
   "execution_count": 71,
   "metadata": {},
   "outputs": [],
   "source": [
    "fname = 'SharedResponsesSurvey.csv'\n",
    "path = f'{DATA_DIR}/{fname}'\n",
    "responses = spark.read.csv(path, header=True)\n",
    "responses = responses.select([\"UserID\", \"UserCountry3\", \"Saved\", \"Intervention\", \"CrossingSignal\",\\\n",
    "    \"PedPed\", \"ScenarioType\", \"AttributeLevel\", \"Review_age\",\"Review_education\", \\\n",
    "    \"Review_gender\", \"Review_income\", \"Review_political\" ,\"Review_religious\"])"
   ]
  },
  {
   "cell_type": "code",
   "execution_count": 49,
   "metadata": {},
   "outputs": [],
   "source": [
    "fname = 'country_cluster_map.csv'\n",
    "path = f'{DATA_DIR}/{fname}'\n",
    "s3_client.download_file('paxton-dsi-capstone-i',\\\n",
    "                        fname,\\\n",
    "                        path)\n",
    "countries = spark.read.csv(path, header=True).select('ISO3')"
   ]
  },
  {
   "cell_type": "code",
   "execution_count": 50,
   "metadata": {},
   "outputs": [],
   "source": [
    "def p_intervention(dataf):\n",
    "    '''\n",
    "    Returns the proportion of choices in dataf that favored\n",
    "    intervention over non-intervention, and n the number of choices analyzed.\n",
    "        Params: dataf (Spark Dataframe)\n",
    "        Returns: p (float), n (int)\n",
    "    '''\n",
    "    # probability of having chosen commission\n",
    "    commits = dataf.filter(\"Saved = 1 AND Intervention = 1\").count()\n",
    "    # probability of having not chosen omission, meaning that the user must have chosen\n",
    "    # commission in the scenario\n",
    "    omits = dataf.filter(\"Saved = 0 AND Intervention = 0\").count()\n",
    "    n = dataf.count()\n",
    "    try:\n",
    "        return (round((commits + omits) / n, 4), n)\n",
    "    except ZeroDivisionError:\n",
    "        print(\"p_intervention received a dataframe without revelant entries.\")\n",
    "        return None"
   ]
  },
  {
   "cell_type": "code",
   "execution_count": 51,
   "metadata": {},
   "outputs": [],
   "source": [
    "def p_legality(dataf):\n",
    "    '''\n",
    "    Returns p the proportion of choices from data in dataf that favored saving pedestrians\n",
    "    crossing legally, and n the number of choices with the legal dimension.\n",
    "        Params: dataf (Spark Dataframe)\n",
    "        Returns: tuple: (p (float), n (int))\n",
    "    '''\n",
    "    legality = dataf.filter(\"CrossingSignal != 0 AND PedPed = 1\")\n",
    "    ## above line credit Edmond Awad, MMFunctionsShared.R\n",
    "    ## found at: https://osf.io/3hvt2/files/\n",
    "    n = legality.count()\n",
    "    \n",
    "    # probability of having chosen to save law-abiding\n",
    "    peds = legality.filter(\"Saved = 1 AND CrossingSignal = 1\").count()\n",
    "    # probability of having chosen to not save non-law-abiding\n",
    "    jwalkers = legality.filter(\"Saved = 0 AND CrossingSignal = 2\").count()\n",
    "    \n",
    "    try:\n",
    "        return (round((peds + jwalkers) / n, 4), n)\n",
    "    except ZeroDivisionError:\n",
    "        print(\"p_legality received a dataframe without revelant entries.\")\n",
    "        return None    "
   ]
  },
  {
   "cell_type": "code",
   "execution_count": 52,
   "metadata": {},
   "outputs": [],
   "source": [
    "def p_factor(dataf, attribute):\n",
    "    '''\n",
    "       Returns the proportion of choices from data in dataf that favored the default choice, \n",
    "    default (str) the default choice for the factor, nondefault (str) the alternative choice\n",
    "    for the factor, and n (int) the number of choices analyzed with the factor corresponding\n",
    "    to the dimension.\n",
    "        Parameters: dataf (Spark Dataframe), attribute (str)\n",
    "        Returns: tuple: p (float), n (int), default (str), nondefault (str),\n",
    "    '''\n",
    "    attr = {\"Utilitarian\" : ['More', 'Less']\\\n",
    "              , \"Gender\" : ['Male', 'Female']\\\n",
    "              , \"Social Status\" : ['High', 'Low']\\\n",
    "              , \"Age\" : ['Young', 'Old']\\\n",
    "             , \"Species\" : []\\\n",
    "             , \"Fitness\" : []}\n",
    "    try:\n",
    "        default, nondefault = attr[attribute]\n",
    "    except KeyError:\n",
    "        print(\"p_factor received an invalid attribute.\")\n",
    "        return None  \n",
    "    \n",
    "    factor = dataf.filter(f\"ScenarioType = '{attribute}' \")\n",
    "    n = factor.count()\n",
    "    # probability of having chosen the default\n",
    "    defs = factor.filter(f\"Saved = 1 AND AttributeLevel = '{default}'\").count()\n",
    "    # probability of having not chosen the nondefault\n",
    "    nonnondefs = factor.filter(f\"Saved = 0 AND AttributeLevel = '{nondefault}'\").count()\n",
    "    try:\n",
    "        return ( round((defs + nonnondefs) / n, 4), n, default, nondefault )\n",
    "    except ZeroDivisionError:\n",
    "        print(\"p_factor received a dataframe without revelant entries.\")\n",
    "        return None   "
   ]
  },
  {
   "cell_type": "code",
   "execution_count": 53,
   "metadata": {},
   "outputs": [],
   "source": [
    "## creating a pandas dataframe to hold preferences by country\n",
    "pandas_cols = [\"ISO3\", \"p_intervention\", \"n_intervention\", \"p_legality\", \"n_legality\",\\\n",
    "           \"p_util\", \"n_util\", \"p_gender\", \"n_gender\", \\\n",
    "           \"p_social\", \"n_social\", \"p_age\", \"n_age\"]\n",
    "factors = [\"Utilitarian\", \"Gender\", \"Social Status\", \"Age\"]\n",
    "country_probs = pd.DataFrame(columns=pandas_cols)"
   ]
  },
  {
   "cell_type": "code",
   "execution_count": 76,
   "metadata": {},
   "outputs": [],
   "source": [
    "country = \"FRA\"\n",
    "country_responses = responses.filter(f\"UserCountry3 = '{country}'\").limit(10000)"
   ]
  },
  {
   "cell_type": "code",
   "execution_count": 74,
   "metadata": {},
   "outputs": [
    {
     "name": "stdout",
     "output_type": "stream",
     "text": [
      "+------+------------+-----+------------+--------------+------+------------+--------------+----------+----------------+-------------+-------------+----------------+----------------+\n",
      "|UserID|UserCountry3|Saved|Intervention|CrossingSignal|PedPed|ScenarioType|AttributeLevel|Review_age|Review_education|Review_gender|Review_income|Review_political|Review_religious|\n",
      "+------+------------+-----+------------+--------------+------+------------+--------------+----------+----------------+-------------+-------------+----------------+----------------+\n",
      "+------+------------+-----+------------+--------------+------+------------+--------------+----------+----------------+-------------+-------------+----------------+----------------+\n",
      "\n"
     ]
    }
   ],
   "source": [
    "intervention_positive = country_responses\\\n",
    "                        .filter(\"Saved = Intervention\")\n",
    "intervention_positive.filter(\"Saved=1\").show(20)"
   ]
  },
  {
   "cell_type": "code",
   "execution_count": 78,
   "metadata": {},
   "outputs": [
    {
     "name": "stdout",
     "output_type": "stream",
     "text": [
      "+----------------+------------+-----+------------+--------------+------+-------------+--------------+----------+----------------+-------------+-------------+----------------+----------------+\n",
      "|          UserID|UserCountry3|Saved|Intervention|CrossingSignal|PedPed| ScenarioType|AttributeLevel|Review_age|Review_education|Review_gender|Review_income|Review_political|Review_religious|\n",
      "+----------------+------------+-----+------------+--------------+------+-------------+--------------+----------+----------------+-------------+-------------+----------------+----------------+\n",
      "|4085044494843110|         FRA|    1|           0|             1|     1|  Utilitarian|          More|        22|        graduate|         male|    under5000|             0.5|             0.5|\n",
      "|7358818517052320|         FRA|    1|           0|             1|     0|       Random|          Rand|      null|         default|      default|      default|             0.5|             0.5|\n",
      "|7358818517052320|         FRA|    1|           0|             1|     0|      Fitness|           Fat|      null|         default|      default|      default|             0.5|             0.5|\n",
      "|2408072751219630|         FRA|    1|           0|             1|     0|       Gender|          Male|        16|          others|         male|    under5000|               0|               1|\n",
      "|6714507312855010|         FRA|    1|           0|             1|     1|       Random|          Rand|        13|         default|       female|      default|             0.5|             0.8|\n",
      "|8617435754819000|         FRA|    1|           0|             1|     1|Social Status|           Low|        20|        graduate|       female|    under5000|            0.72|            0.56|\n",
      "|4258829963210580|         FRA|    1|           0|             1|     1|      Fitness|           Fit|        17|         default|         male|      default|             0.5|               0|\n",
      "|5999349311459810|         FRA|    1|           0|             1|     1|      Fitness|           Fat|        16|       underHigh|         male|        10000|            0.76|               0|\n",
      "|6746387541581560|         FRA|    1|           0|             1|     1|      Species|          Pets|      null|         default|      default|      default|             0.5|               0|\n",
      "|6746387541581560|         FRA|    1|           0|             1|     1|       Gender|        Female|      null|         default|      default|      default|             0.5|               0|\n",
      "|8060871990915070|         FRA|    1|           0|             1|     0|       Gender|        Female|        20|        bachelor|         male|        35000|            0.77|             0.5|\n",
      "|8060871990915070|         FRA|    1|           0|             1|     1|      Fitness|           Fat|        20|        bachelor|         male|        35000|            0.77|             0.5|\n",
      "|8060871990915070|         FRA|    1|           0|             1|     0|       Random|          Rand|        20|        bachelor|         male|        35000|            0.77|             0.5|\n",
      "|8480883283119550|         FRA|    1|           0|             1|     0|Social Status|           Low|        35|            high|         male|        50000|               1|               0|\n",
      "|8480883283119550|         FRA|    1|           0|             1|     0|      Species|       Hoomans|        35|            high|         male|        50000|               1|               0|\n",
      "|7972727144180540|         FRA|    1|           0|             1|     1|       Gender|          Male|        18|         college|       others|    under5000|               1|               0|\n",
      "|4928843580382590|         FRA|    1|           0|             1|     0|  Utilitarian|          Less|        26|        graduate|         male|        25000|             0.5|             0.5|\n",
      "|9503667396970060|         FRA|    1|           0|             1|     1|       Gender|          Male|        18|        bachelor|         male|      default|             0.5|            0.88|\n",
      "|9503667396970060|         FRA|    1|           0|             1|     0|Social Status|           Low|        18|        bachelor|         male|      default|             0.5|            0.88|\n",
      "|5513210363848390|         FRA|    1|           0|             1|     1|       Gender|          Male|      null|         default|      default|      default|             0.5|             0.5|\n",
      "+----------------+------------+-----+------------+--------------+------+-------------+--------------+----------+----------------+-------------+-------------+----------------+----------------+\n",
      "only showing top 20 rows\n",
      "\n"
     ]
    }
   ],
   "source": [
    "leg = country_responses.filter(\"CrossingSignal != 0 AND PedPed = 1\")\n",
    "leg_positive = country_responses.filter(\"Saved = 1 AND CrossingSignal = 1\" or \"Saved = 0 AND CrossingSignal = 2\")\n",
    "leg_positive.show(20)                                        "
   ]
  },
  {
   "cell_type": "code",
   "execution_count": 82,
   "metadata": {},
   "outputs": [],
   "source": [
    "def p_factor2(dataf, attribute):\n",
    "    '''\n",
    "    '''\n",
    "    attr = {\"Intervention\" : [\"Saved = 0 AND Intervention = 0\", \"Saved = 1 AND Intervention = 1\"],\\\n",
    "            \"Legality\" : [\"Saved = 1 AND CrossingSignal = 1\", \"Saved = 0 AND CrossingSignal = 2\"],\\\n",
    "            \"Utilitarian\" : ['More', 'Less'],\\\n",
    "            \"Gender\" : ['Male', 'Female'],\\\n",
    "            \"Social Status\" : ['High', 'Low'],\\\n",
    "            \"Age\" : ['Young', 'Old']}\n",
    "    \n",
    "    ##\n",
    "    try:\n",
    "        default, nondefault = attr[attribute]\n",
    "    except KeyError:\n",
    "        print(\"p_factor received an invalid attribute.\")\n",
    "        return None  \n",
    "\n",
    "    ##\n",
    "    if attribute == \"Legality\":\n",
    "        dataf = dataf.filter(\"CrossingSignal != 0 AND PedPed = 1\")\n",
    "        ## above line credit Edmond Awad, MMFunctionsShared.R\n",
    "        ## found at: https://osf.io/3hvt2/files/\n",
    "        positive = dataf.filter(default or nondefault)\n",
    "    elif attribute == \"Intervention\":\n",
    "        positive = dataf.filter(\"Saved = Intervention\")\n",
    "    else:\n",
    "        default = f\"Saved = 1 AND AttributeLevel = '{default}'\"\n",
    "        nonnondefault = f\"Saved = 0 AND AttributeLevel = '{nondefault}'\"\n",
    "\n",
    "        dataf = dataf.filter(f\"ScenarioType = '{attribute}' \")\n",
    "        positive = dataf.filter(default or nonnondefault)\n",
    "\n",
    "    n = dataf.count()\n",
    "    try:\n",
    "        p = positive.count() / n\n",
    "    except ZeroDivisionError:\n",
    "        p = -1\n",
    "    \n",
    "    return (p, n)"
   ]
  },
  {
   "cell_type": "code",
   "execution_count": null,
   "metadata": {},
   "outputs": [],
   "source": []
  }
 ],
 "metadata": {
  "kernelspec": {
   "display_name": "Python 3",
   "language": "python",
   "name": "python3"
  },
  "language_info": {
   "codemirror_mode": {
    "name": "ipython",
    "version": 3
   },
   "file_extension": ".py",
   "mimetype": "text/x-python",
   "name": "python",
   "nbconvert_exporter": "python",
   "pygments_lexer": "ipython3",
   "version": "3.7.3"
  }
 },
 "nbformat": 4,
 "nbformat_minor": 4
}
